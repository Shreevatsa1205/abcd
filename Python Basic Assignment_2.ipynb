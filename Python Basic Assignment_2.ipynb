{
 "cells": [
  {
   "cell_type": "markdown",
   "metadata": {},
   "source": [
    "# Python Programming Assignment-2"
   ]
  },
  {
   "cell_type": "markdown",
   "metadata": {},
   "source": [
    "# Qn 1: Write a Python program to convert kilometers to miles"
   ]
  },
  {
   "cell_type": "markdown",
   "metadata": {},
   "source": [
    "Ans: \n",
    "km - kilometers \n",
    "\n",
    "Note: Assume 1 kms = 0.621 miles"
   ]
  },
  {
   "cell_type": "code",
   "execution_count": 25,
   "metadata": {},
   "outputs": [
    {
     "name": "stdout",
     "output_type": "stream",
     "text": [
      "Enter kms here: 6\n",
      "6 kms is equal to 3.726 miles \n"
     ]
    }
   ],
   "source": [
    "def convertKmToMile(a):\n",
    "    b = a*0.621\n",
    "    print(\"{} kms is equal to {} miles \".format(a,b))\n",
    "    \n",
    "convertKmToMile(int(input(\"Enter kms here: \")))"
   ]
  },
  {
   "cell_type": "markdown",
   "metadata": {},
   "source": [
    "# Qn 2: Write a Python program to convert Celsius to Fahrenheit?"
   ]
  },
  {
   "cell_type": "markdown",
   "metadata": {},
   "source": [
    "Ans: c - Celsius\n",
    "     f - Fahrenheit\n",
    "     \n",
    "     Assume 0 c = 32 f\n",
    "     Formula : f = (9/5)c + 32"
   ]
  },
  {
   "cell_type": "code",
   "execution_count": 29,
   "metadata": {},
   "outputs": [
    {
     "name": "stdout",
     "output_type": "stream",
     "text": [
      "Enter celsius here: 37\n",
      "37 celsius is equal to 98.60000000000001 fahrenheit \n"
     ]
    }
   ],
   "source": [
    "def convertCelsiusToFahrenheit(c):\n",
    "    f = (9/5)*c + 32\n",
    "    print(\"{} celsius is equal to {} fahrenheit \".format(c,f))\n",
    "    \n",
    "convertCelsiusToFahrenheit(int(input(\"Enter celsius here: \")))"
   ]
  },
  {
   "cell_type": "markdown",
   "metadata": {},
   "source": [
    "# Qn 3: Write a Python program to display calendar?"
   ]
  },
  {
   "cell_type": "code",
   "execution_count": 30,
   "metadata": {},
   "outputs": [
    {
     "name": "stdout",
     "output_type": "stream",
     "text": [
      "Enter year: 2021\n",
      "Enter month: 5\n",
      "      May 2021\n",
      "Mo Tu We Th Fr Sa Su\n",
      "                1  2\n",
      " 3  4  5  6  7  8  9\n",
      "10 11 12 13 14 15 16\n",
      "17 18 19 20 21 22 23\n",
      "24 25 26 27 28 29 30\n",
      "31\n",
      "\n"
     ]
    }
   ],
   "source": [
    "# importing calendar module\n",
    "import calendar\n",
    "\n",
    "\n",
    "# To take month and year input from the user\n",
    "yy = int(input(\"Enter year: \"))\n",
    "mm = int(input(\"Enter month: \"))\n",
    "\n",
    "# display the calendar\n",
    "print(calendar.month(yy, mm))"
   ]
  },
  {
   "cell_type": "markdown",
   "metadata": {},
   "source": [
    "# Qn 4: Write a Python program to solve quadratic equation?"
   ]
  },
  {
   "cell_type": "code",
   "execution_count": 31,
   "metadata": {},
   "outputs": [
    {
     "name": "stdout",
     "output_type": "stream",
     "text": [
      "Enter a: 1\n",
      "Enter b: -2\n",
      "Enter c: 1\n",
      "The roots of quad Eqn 1.0x^2 + -2.0x + 1.0=0 are (1+0j),(1+0j)\n"
     ]
    }
   ],
   "source": [
    "import cmath\n",
    "\n",
    "def rootsOfQuadEqn(a,b,c):\n",
    "    d = ((b**2)-(4*a*c))\n",
    "    \n",
    "    res1 = (-b-cmath.sqrt(d))/(2*a)\n",
    "    res2 = (-b+cmath.sqrt(d))/(2*a)\n",
    "    \n",
    "    print(\"The roots of quad Eqn {}x^2 + {}x + {}=0 are {},{}\".format(a,b,c,res1,res2))\n",
    "    \n",
    "rootsOfQuadEqn(float(input(\"Enter a: \")), float(input(\"Enter b: \")), float(input(\"Enter c: \")))"
   ]
  },
  {
   "cell_type": "markdown",
   "metadata": {},
   "source": [
    "# Qn 5: Write a Python program to swap two variables without temp variable?"
   ]
  },
  {
   "cell_type": "code",
   "execution_count": 32,
   "metadata": {},
   "outputs": [
    {
     "name": "stdout",
     "output_type": "stream",
     "text": [
      "Enter value of x: 10\n",
      "Enter value of y: 20\n",
      "Value of x is 10 before swapping\n",
      "Value of y is 20 before swapping\n",
      "Value of x is 20 after swapping\n",
      "Value of y is 10 after swapping\n"
     ]
    }
   ],
   "source": [
    "x = input(\"Enter value of x: \")\n",
    "y = input(\"Enter value of y: \")\n",
    "\n",
    "print(\"Value of x is {} before swapping\".format(x))\n",
    "print(\"Value of y is {} before swapping\".format(y))\n",
    "\n",
    "x,y = y,x\n",
    "\n",
    "print(\"Value of x is {} after swapping\".format(x))\n",
    "print(\"Value of y is {} after swapping\".format(y))"
   ]
  },
  {
   "cell_type": "code",
   "execution_count": null,
   "metadata": {},
   "outputs": [],
   "source": []
  }
 ],
 "metadata": {
  "kernelspec": {
   "display_name": "Python 3",
   "language": "python",
   "name": "python3"
  },
  "language_info": {
   "codemirror_mode": {
    "name": "ipython",
    "version": 3
   },
   "file_extension": ".py",
   "mimetype": "text/x-python",
   "name": "python",
   "nbconvert_exporter": "python",
   "pygments_lexer": "ipython3",
   "version": "3.8.5"
  }
 },
 "nbformat": 4,
 "nbformat_minor": 4
}
